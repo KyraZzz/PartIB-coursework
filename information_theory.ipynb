{
  "nbformat": 4,
  "nbformat_minor": 0,
  "metadata": {
    "colab": {
      "name": "information_theory.ipynb",
      "provenance": [],
      "authorship_tag": "ABX9TyPLeRS4kc408z/vIy8/lDcK",
      "include_colab_link": true
    },
    "kernelspec": {
      "name": "python3",
      "display_name": "Python 3"
    },
    "language_info": {
      "name": "python"
    }
  },
  "cells": [
    {
      "cell_type": "markdown",
      "metadata": {
        "id": "view-in-github",
        "colab_type": "text"
      },
      "source": [
        "<a href=\"https://colab.research.google.com/github/KyraZzz/PartIB-coursework/blob/main/information_theory.ipynb\" target=\"_parent\"><img src=\"https://colab.research.google.com/assets/colab-badge.svg\" alt=\"Open In Colab\"/></a>"
      ]
    },
    {
      "cell_type": "code",
      "execution_count": 1,
      "metadata": {
        "id": "SMPw0HRclJZi"
      },
      "outputs": [],
      "source": [
        "import urllib.request\n",
        "url = \"https://www.cl.cam.ac.uk/teaching/2122/ForModLang/exercises/alice.txt\"\n",
        "words = urllib.request.urlopen(url).read().decode('utf-8')"
      ]
    },
    {
      "cell_type": "code",
      "source": [
        "import numpy as np\n",
        "wordlist = np.array(words.split())\n",
        "len(wordlist)"
      ],
      "metadata": {
        "colab": {
          "base_uri": "https://localhost:8080/"
        },
        "id": "xmYj1w_eleyR",
        "outputId": "910e9052-9db3-4b6c-babb-a04528e072a2"
      },
      "execution_count": 2,
      "outputs": [
        {
          "output_type": "execute_result",
          "data": {
            "text/plain": [
              "26683"
            ]
          },
          "metadata": {},
          "execution_count": 2
        }
      ]
    },
    {
      "cell_type": "code",
      "source": [
        "bigram = [(wordlist[x], wordlist[x+1]) for x in range(0, len(wordlist)-1)]"
      ],
      "metadata": {
        "id": "BZ8qgHIhmah8"
      },
      "execution_count": 3,
      "outputs": []
    },
    {
      "cell_type": "code",
      "source": [
        "from collections import defaultdict\n",
        "matrix = defaultdict(lambda: defaultdict(lambda: 0))\n",
        "probMatrix = defaultdict(lambda: defaultdict(lambda: 0))\n",
        "for w1, w2 in bigram:\n",
        "  matrix[w1][w2] += 1\n",
        "  probMatrix[w1][w2] += 1\n",
        "# probability distribution of co-occurrence\n",
        "for w1 in matrix:\n",
        "    total = sum(matrix[w1].values())\n",
        "    for w2 in matrix[w1]:\n",
        "        probMatrix[w1][w2] /= total"
      ],
      "metadata": {
        "id": "Ob1FoPbMm-x6"
      },
      "execution_count": 4,
      "outputs": []
    },
    {
      "cell_type": "code",
      "source": [
        "# start from w, generate some words\n",
        "def generate(start):\n",
        "  x = start\n",
        "  while True:\n",
        "    yield x \n",
        "    x = np.random.choice(np.array(list(probMatrix[x].keys())), p = np.array(list(probMatrix[x].values())))\n",
        "gnt = generate(\"i\")\n",
        "generate_words = [next(gnt) for _ in range(20)]"
      ],
      "metadata": {
        "id": "6KQrnVeNtTnF"
      },
      "execution_count": 5,
      "outputs": []
    },
    {
      "cell_type": "code",
      "source": [
        "generate_words"
      ],
      "metadata": {
        "colab": {
          "base_uri": "https://localhost:8080/"
        },
        "id": "0hFQWzutuBG3",
        "outputId": "a1ed1ef4-54f1-42b9-b031-489bded6a07f"
      },
      "execution_count": 6,
      "outputs": [
        {
          "output_type": "execute_result",
          "data": {
            "text/plain": [
              "['i',\n",
              " 'have',\n",
              " 'my',\n",
              " 'right',\n",
              " 'im',\n",
              " 'growing',\n",
              " 'and',\n",
              " 'turns',\n",
              " 'quarrelling',\n",
              " 'with',\n",
              " 'it',\n",
              " 'must',\n",
              " 'have',\n",
              " 'been',\n",
              " 'changed',\n",
              " 'in',\n",
              " 'a',\n",
              " 'large',\n",
              " 'kitchen',\n",
              " 'at']"
            ]
          },
          "metadata": {},
          "execution_count": 6
        }
      ]
    },
    {
      "cell_type": "code",
      "source": [
        "unique, counts = np.unique(wordlist, return_counts=True)\n",
        "np.asarray((unique, counts)).T"
      ],
      "metadata": {
        "colab": {
          "base_uri": "https://localhost:8080/"
        },
        "id": "bgiMlRIkl7U3",
        "outputId": "fddf79fc-c203-4812-d5f2-6164067fc2fb"
      },
      "execution_count": 7,
      "outputs": [
        {
          "output_type": "execute_result",
          "data": {
            "text/plain": [
              "array([['a', '632'],\n",
              "       ['abide', '1'],\n",
              "       ['able', '1'],\n",
              "       ...,\n",
              "       ['youve', '7'],\n",
              "       ['zealand', '1'],\n",
              "       ['zigzag', '1']], dtype='<U21')"
            ]
          },
          "metadata": {},
          "execution_count": 7
        }
      ]
    },
    {
      "cell_type": "code",
      "source": [
        "total_count = counts.sum()\n",
        "p = counts / total_count\n",
        "surprisal = np.log2(1/p)\n",
        "# top 10 lowest surprisal word\n",
        "ind = np.argsort(surprisal)\n",
        "surprisal_low = [unique[i] for i in ind[:10]]\n",
        "# top 10 highest surprisal word\n",
        "surprisal_high = [unique[i] for i in ind[len(ind)-10:]]\n",
        "print(\"The top 10 lowest surprisal words: \", surprisal_low)\n",
        "print(\"The top 10 highest surprisal words: \", surprisal_high)"
      ],
      "metadata": {
        "colab": {
          "base_uri": "https://localhost:8080/"
        },
        "id": "AgMnhQF53S1k",
        "outputId": "dc1ccbc3-7135-418f-8cd6-9e9c2e22eff6"
      },
      "execution_count": 8,
      "outputs": [
        {
          "output_type": "stream",
          "name": "stdout",
          "text": [
            "The top 10 lowest surprisal words:  ['the', 'and', 'to', 'a', 'she', 'it', 'of', 'said', 'i', 'alice']\n",
            "The top 10 highest surprisal words:  ['lacie', 'labelled', 'knuckles', 'known', 'altered', 'knocked', 'knock', 'knelt', 'leaders', 'zigzag']\n"
          ]
        }
      ]
    },
    {
      "cell_type": "code",
      "source": [
        "import re\n",
        "def word_entropy(word):\n",
        "  text = re.compile('[^a-z]+').sub(' ',word)\n",
        "  let_freq = {}\n",
        "  # Count letter frequencies\n",
        "  for letter in text:\n",
        "      if letter in let_freq:\n",
        "          let_freq[letter] += 1\n",
        "      else:\n",
        "          let_freq[letter] = 1\n",
        "  p = list(let_freq.values())\n",
        "  p = p / np.sum(p)\n",
        "  return np.sum(p * np.log2(1/p))\n",
        "\n",
        "entropy = np.array([word_entropy(w) for w in unique])\n",
        "inf_rate = 8 * entropy\n",
        "# top 10 lowest information rate word\n",
        "ind = np.argsort(inf_rate)\n",
        "inf_rate_low = [unique[i] for i in ind[:10]]\n",
        "# top 10 highest information rate word\n",
        "inf_rate_high = [unique[i] for i in ind[len(ind)-10:]]\n",
        "print(\"The top 10 lowest information rate words: \", inf_rate_low)\n",
        "print(\"The top 10 highest information rate words: \", inf_rate_high)"
      ],
      "metadata": {
        "colab": {
          "base_uri": "https://localhost:8080/"
        },
        "id": "nNd4BxkPEGc9",
        "outputId": "56e633c1-97df-4197-c26c-ad62e84a8b0d"
      },
      "execution_count": 9,
      "outputs": [
        {
          "output_type": "stream",
          "name": "stdout",
          "text": [
            "The top 10 lowest information rate words:  ['a', 'v', 'e', 'm', 'iii', 'o', 'd', 'i', 'x', 'ii']\n",
            "The top 10 highest information rate words:  ['educations', 'scrambling', 'complained', 'flamingoes', 'curtseying', 'croqueting', 'contemptuously', 'triumphantly', 'uncomfortable', 'uncomfortably']\n"
          ]
        }
      ]
    }
  ]
}